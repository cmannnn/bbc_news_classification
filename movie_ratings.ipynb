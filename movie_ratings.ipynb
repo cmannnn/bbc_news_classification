{
 "cells": [
  {
   "cell_type": "markdown",
   "metadata": {},
   "source": [
    "# Movie Ratings"
   ]
  },
  {
   "cell_type": "markdown",
   "metadata": {},
   "source": [
    "Chris Murphy 06/17/2024"
   ]
  },
  {
   "cell_type": "markdown",
   "metadata": {},
   "source": [
    "These files contain 1,000,209 anonymous ratings of approximately 3,900 movies \n",
    "made by 6,040 MovieLens users who joined MovieLens in 2000.\n",
    "\n",
    "The link to the dataset can be found here: https://www.kaggle.com/datasets/odedgolden/movielens-1m-dataset/data"
   ]
  },
  {
   "cell_type": "markdown",
   "metadata": {},
   "source": [
    "## Imports"
   ]
  },
  {
   "cell_type": "code",
   "execution_count": null,
   "metadata": {},
   "outputs": [],
   "source": [
    "import pandas as pd\n",
    "import matplotlib.pyplot as plt\n",
    "import numpy as np\n",
    "from sklearn.decomposition import NMF\n",
    "from sklearn.metrics import mean_squared_error"
   ]
  },
  {
   "cell_type": "markdown",
   "metadata": {},
   "source": [
    "## Data import"
   ]
  },
  {
   "cell_type": "code",
   "execution_count": null,
   "metadata": {},
   "outputs": [],
   "source": [
    "MV_users = pd.read_csv('data/movies/users.csv')\n",
    "MV_movies = pd.read_csv('data/movies/movies.csv')\n",
    "train = pd.read_csv('data/movies/train.csv')\n",
    "test = pd.read_csv('data/movies/test.csv')"
   ]
  },
  {
   "cell_type": "code",
   "execution_count": null,
   "metadata": {},
   "outputs": [],
   "source": [
    "train.head()"
   ]
  },
  {
   "cell_type": "code",
   "execution_count": null,
   "metadata": {},
   "outputs": [],
   "source": [
    "train.info()"
   ]
  },
  {
   "cell_type": "markdown",
   "metadata": {},
   "source": [
    "### Building NMF model on our training dataset"
   ]
  },
  {
   "cell_type": "code",
   "execution_count": null,
   "metadata": {},
   "outputs": [],
   "source": [
    "nmf = NMF(random_state = 42)\n",
    "nmf_train = nmf.fit_transform(train)\n",
    "pd.DataFrame(nmf_train).head()"
   ]
  },
  {
   "cell_type": "code",
   "execution_count": null,
   "metadata": {},
   "outputs": [],
   "source": [
    "pred = np.argmax(nmf_train, axis= 1)\n",
    "pred"
   ]
  },
  {
   "cell_type": "code",
   "execution_count": null,
   "metadata": {},
   "outputs": [],
   "source": [
    "rms = mean_squared_error(train['rating'], pred, squared = False)\n",
    "print(f'The RMSE of the NMF model on the training data is: {rms}')"
   ]
  },
  {
   "cell_type": "markdown",
   "metadata": {},
   "source": [
    "### Building NMF model on our testing dataset"
   ]
  },
  {
   "cell_type": "code",
   "execution_count": null,
   "metadata": {},
   "outputs": [],
   "source": [
    "nmf_test = nmf.fit_transform(test)\n",
    "pd.DataFrame(nmf_test).head()"
   ]
  },
  {
   "cell_type": "code",
   "execution_count": null,
   "metadata": {},
   "outputs": [],
   "source": [
    "test_pred = np.argmax(nmf_test, axis = 1)"
   ]
  },
  {
   "cell_type": "code",
   "execution_count": null,
   "metadata": {},
   "outputs": [],
   "source": [
    "rms = mean_squared_error(test['rating'], test_pred, squared = False)\n",
    "print(f'The RMSE of the NMF model on the testing data is: {rms}')"
   ]
  },
  {
   "cell_type": "markdown",
   "metadata": {},
   "source": [
    "## Discussion"
   ]
  },
  {
   "cell_type": "markdown",
   "metadata": {},
   "source": [
    "#### Discuss the results and why sklearn's non-negative matrix factorization library did not work well compared to simple baseline or similarity-based methods we’ve done in Module 3. \n",
    "\n",
    "Building and measuring the NMF model against both the training and testing dataset returned very high RMSE's of 2.713 and 2.674 respectively. These results were quite poor as the sklearn's non-negative matrix factorization method is not a very appropriate model for this type of data. To start, the sklearn NMF model often struggles with sparse datsets. In the movie ratings training dataset, there are 700,148 rows of data where each user has at least 20 different recorded ratings. This means that there are many users that have a relatively low number of movie ratings. It is hard for the model to deccompose such a large matrix such as this. This is the main issue that the model definiltely encountered.\n",
    "\n",
    "There is also an issue around the Cold Start Problem. The NMF model assumes that the past results (in this case the past movie ratings) are indicitive of future ratings which might not necessairly be the case. For example, if one particular user rates a comedy movie highly, it is not guarenteed that they will rate all other comedy movies as high in the future. Also, since the data is sparse to begin with, the user may have only rated one comedy movie at all in which the model would not be able to decompose."
   ]
  },
  {
   "cell_type": "markdown",
   "metadata": {},
   "source": [
    "#### Can you suggest a way(s) to fix it?\n",
    "\n",
    "There are a couple of ways that we can improve the RMSE of our NMF model in this case. One way to improve our outcome would be to preprocess the data to better handle the sparse nature of the dataset. Some examples of preprocessing that can be done would be conduct single value decomposition which was a topic that was covered in week 4. In single value decomposition, the principal components of a dataset are extracted and the variance of the particular dataset is maximized. This in turn reduces the dimensionality of the data and will allow for our NMF model to perform better.  "
   ]
  }
 ],
 "metadata": {
  "kernelspec": {
   "display_name": ".venv",
   "language": "python",
   "name": "python3"
  },
  "language_info": {
   "codemirror_mode": {
    "name": "ipython",
    "version": 3
   },
   "file_extension": ".py",
   "mimetype": "text/x-python",
   "name": "python",
   "nbconvert_exporter": "python",
   "pygments_lexer": "ipython3",
   "version": "3.12.3"
  }
 },
 "nbformat": 4,
 "nbformat_minor": 2
}
